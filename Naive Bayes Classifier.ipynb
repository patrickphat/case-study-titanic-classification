{
 "cells": [
  {
   "cell_type": "markdown",
   "metadata": {},
   "source": [
    "# Hard Code Naive Bayes Classifier"
   ]
  },
  {
   "cell_type": "markdown",
   "metadata": {},
   "source": [
    "## Import thư viện"
   ]
  },
  {
   "cell_type": "code",
   "execution_count": 1,
   "metadata": {},
   "outputs": [],
   "source": [
    "import pandas as pd\n",
    "import numpy as np"
   ]
  },
  {
   "cell_type": "markdown",
   "metadata": {},
   "source": [
    "## Load và tiền xử lý data"
   ]
  },
  {
   "cell_type": "code",
   "execution_count": 2,
   "metadata": {},
   "outputs": [
    {
     "data": {
      "text/html": [
       "<div>\n",
       "<style scoped>\n",
       "    .dataframe tbody tr th:only-of-type {\n",
       "        vertical-align: middle;\n",
       "    }\n",
       "\n",
       "    .dataframe tbody tr th {\n",
       "        vertical-align: top;\n",
       "    }\n",
       "\n",
       "    .dataframe thead th {\n",
       "        text-align: right;\n",
       "    }\n",
       "</style>\n",
       "<table border=\"1\" class=\"dataframe\">\n",
       "  <thead>\n",
       "    <tr style=\"text-align: right;\">\n",
       "      <th></th>\n",
       "      <th>class</th>\n",
       "      <th>age</th>\n",
       "      <th>gender</th>\n",
       "      <th>survived</th>\n",
       "    </tr>\n",
       "  </thead>\n",
       "  <tbody>\n",
       "    <tr>\n",
       "      <th>0</th>\n",
       "      <td>1st</td>\n",
       "      <td>adult</td>\n",
       "      <td>male</td>\n",
       "      <td>yes</td>\n",
       "    </tr>\n",
       "    <tr>\n",
       "      <th>1</th>\n",
       "      <td>1st</td>\n",
       "      <td>adult</td>\n",
       "      <td>male</td>\n",
       "      <td>yes</td>\n",
       "    </tr>\n",
       "    <tr>\n",
       "      <th>2</th>\n",
       "      <td>1st</td>\n",
       "      <td>adult</td>\n",
       "      <td>male</td>\n",
       "      <td>yes</td>\n",
       "    </tr>\n",
       "    <tr>\n",
       "      <th>3</th>\n",
       "      <td>1st</td>\n",
       "      <td>adult</td>\n",
       "      <td>male</td>\n",
       "      <td>yes</td>\n",
       "    </tr>\n",
       "    <tr>\n",
       "      <th>4</th>\n",
       "      <td>1st</td>\n",
       "      <td>adult</td>\n",
       "      <td>male</td>\n",
       "      <td>yes</td>\n",
       "    </tr>\n",
       "  </tbody>\n",
       "</table>\n",
       "</div>"
      ],
      "text/plain": [
       "  class    age gender survived\n",
       "0   1st  adult   male      yes\n",
       "1   1st  adult   male      yes\n",
       "2   1st  adult   male      yes\n",
       "3   1st  adult   male      yes\n",
       "4   1st  adult   male      yes"
      ]
     },
     "execution_count": 2,
     "metadata": {},
     "output_type": "execute_result"
    }
   ],
   "source": [
    "df = pd.read_csv('Dataset.csv', header=None)\n",
    "# Sửa tên column\n",
    "df.rename(columns={0:'class',1:'age',2:'gender',3:'survived'},inplace=True)\n",
    "# Xuất ra 5 dòng đầu tiên\n",
    "df.head()"
   ]
  },
  {
   "cell_type": "markdown",
   "metadata": {},
   "source": [
    "## Xây dựng công cụ Naive Bayes Classifier"
   ]
  },
  {
   "cell_type": "code",
   "execution_count": 3,
   "metadata": {},
   "outputs": [],
   "source": [
    "def train_test_split(df, test_size = 0.2):\n",
    "    # Shuffle tập data\n",
    "    newdf = df.iloc[np.random.permutation(len(df))].reset_index(drop=True)\n",
    "    # Số lượng train\n",
    "    train_amount = int(np.ceil(len(newdf)*(1-test_size)))\n",
    "    df_train = newdf.iloc[:train_amount,:]\n",
    "    df_test = newdf.iloc[train_amount:,:].reset_index(drop=True)\n",
    "    return df_train, df_test\n",
    "    \n",
    "class Binary_Naive_Bayes_Classifier:\n",
    "    def __init__(self, thresh = 0.5, pos_label=None):\n",
    "        self.training_dict = {}\n",
    "        self.thresh = thresh\n",
    "        # Các giá trị để đánh giá model\n",
    "        self.pos_label = pos_label # nhãn positive để tính precision/recall(yes/no)\n",
    "        self.train_acc = None # Accuracy\n",
    "        self.train_precision = None # Precision\n",
    "        self.train_recall = None # Recall\n",
    "        self.train_f1_score = None # F1 Score\n",
    "    # Fit data để chuyển thành model\n",
    "    def fit(self,df_train,print_acc=True):\n",
    "        df = df_train.copy()\n",
    "        self.label_name = df_train.columns[-1]\n",
    "        # Tìm percentage của từng labels (yes/no)\n",
    "        labelname1 = df.iloc[:,-1].value_counts().keys()[0]\n",
    "        labelpercent1 =  df.iloc[:,-1].value_counts()[0]/len(df)\n",
    "        labelname2 = df.iloc[:,-1].value_counts().keys()[1]\n",
    "        labelpercent2 = 1 - labelpercent1\n",
    "        self.training_dict['labels'] = {labelname1:labelpercent1,labelname2:labelpercent2}\n",
    "        features_dict = {}\n",
    "        for column in df.columns[:-1]:\n",
    "            values_dict = {}\n",
    "            for value in df[column].unique():\n",
    "                labels_dict = {}\n",
    "                for label in [labelname1,labelname2]:\n",
    "                    # Tìm những hàng có giá trị đó (e.g 1st class)\n",
    "                    temp_df_value = df[df[column] == value]\n",
    "                    # Tìm những hàng có label đó (e.g 1st class label no)\n",
    "                    temp_df_label = temp_df_value[temp_df_value.iloc[:,-1]==label] #df[df.iloc[:,-1]=='yes']\n",
    "                    # Tính % được value (yes/no) theo giá trị đó trong column\n",
    "                    label_percent = len(temp_df_label)/len(temp_df_value)\n",
    "                    # Thêm % label đó vào label dict (e.g 1st class có 60% label no)\n",
    "                    labels_dict[label] = label_percent\n",
    "                # Thêm label_dict vào feature dict tương ứng với feature 'column' \n",
    "                # (e.g feature class có 1st 2nd, ứng với %yes/no)\n",
    "                \n",
    "                values_dict[value] = labels_dict\n",
    "            features_dict[column] = values_dict\n",
    "        self.training_dict['features'] = features_dict\n",
    "        df_predicted = self.predict(df_train)\n",
    "        self.train_acc = round(np.sum(df_predicted[self.label_name] == df_train[self.label_name])/len(df),2)\n",
    "        if print_acc == True:\n",
    "            print('Training accuracy: {} %'.format(self.train_acc*100))   \n",
    "    def predict(self, df_input):\n",
    "        df = df_input.copy()\n",
    "        df[self.label_name] = np.nan\n",
    "        label_list=[]\n",
    "        # Xác suất xảy ra p(1) và p(2)\n",
    "        p_label = []\n",
    "        # Cập nhật p(1) và p(2)\n",
    "        for label in self.training_dict['labels'].keys():\n",
    "            p_label.append(self.training_dict['labels'][label])\n",
    "        # Dự đoán với từng dòng trong df\n",
    "        for i in range(len(df)):\n",
    "            # Xác suất X xảy ra khi label 1/2 xảy ra\n",
    "            p_X_label = []\n",
    "            for label in self.training_dict['labels'].keys():\n",
    "                temp_p_X_label = 1\n",
    "                for feature in self.training_dict['features'].keys():\n",
    "                    value = df.loc[i,feature]\n",
    "                    temp_p_X_label *= self.training_dict['features'][feature][value][label]\n",
    "                p_X_label.append(temp_p_X_label)\n",
    "            # Tính p(X)\n",
    "            p_X = p_label[0]*np.sum(p_X_label)\n",
    "            predicted_percentage = p_X_label[0]*(p_label[0])/p_X\n",
    "            predicted_label = None\n",
    "            # Nếu > thresh% thì lấy label thứ 1, không thì lấy thứ 2\n",
    "            if (predicted_percentage > self.thresh):\n",
    "                predicted_label = list(self.training_dict['labels'].keys())[0]\n",
    "            else:\n",
    "                predicted_label = list(self.training_dict['labels'].keys())[1]\n",
    "            # Cập nhật label vô dòng đó\n",
    "            df.loc[i,self.label_name] = predicted_label\n",
    "            df.loc[i,'confidence'] = predicted_percentage\n",
    "        return df\n",
    "    def evaluate(self, df_test, print_acc = True):\n",
    "        test_acc = round(np.sum(myClassifier.predict(df_test)[self.label_name] == df_test[self.label_name])/len(df_test),2)\n",
    "        if print_acc == True:\n",
    "            print('Test accuracy: {} %'.format(test_acc*100))\n",
    "        return test_acc"
   ]
  },
  {
   "cell_type": "markdown",
   "metadata": {},
   "source": [
    "## Chạy thử model"
   ]
  },
  {
   "cell_type": "code",
   "execution_count": 7,
   "metadata": {},
   "outputs": [
    {
     "name": "stdout",
     "output_type": "stream",
     "text": [
      "Training accuracy: 74.0 %\n",
      "Test accuracy: 75.0 %\n"
     ]
    }
   ],
   "source": [
    "np.random.seed(156)\n",
    "# Chia data thành test và train với tỉ lệ test_size\n",
    "df_train, df_test = train_test_split(df,test_size=0.25)\n",
    "# Gọi class Naive Bayes để hỗ trợ, với thresh = 0.5 - ngưỡng kích hoạt yes/no\n",
    "myClassifier = Binary_Naive_Bayes_Classifier(thresh=0.5)\n",
    "# Build model dựa trên tập train và xuất ra độ chính xác trên tập training\n",
    "myClassifier.fit(df_train)\n",
    "# Dự đoán dựa trên tập data (có nhãn) và xuất ra độ chính xác trên tập test\n",
    "_ = myClassifier.evaluate(df_test)"
   ]
  },
  {
   "cell_type": "markdown",
   "metadata": {},
   "source": [
    "Như vậy model chúng ta có `test accuracy` là 75%, cũng khá cao nhưng không cao lắm. Chúng ta thử điều chỉnh lại tham số threshold xem kết quả có khả quan hơn không"
   ]
  },
  {
   "cell_type": "markdown",
   "metadata": {},
   "source": [
    "# Hyperparameter tuning"
   ]
  },
  {
   "cell_type": "markdown",
   "metadata": {},
   "source": [
    "Ở đây chúng ta sẽ tune siêu tham số `threshold`, là ngưỡng để quyết định 2 label yes/no"
   ]
  },
  {
   "cell_type": "code",
   "execution_count": 5,
   "metadata": {},
   "outputs": [
    {
     "name": "stdout",
     "output_type": "stream",
     "text": [
      "Random seed:  1\n",
      "Mean best threshold is 0.7350000000000001 with the accuracy of 0.78\n",
      "Random seed:  2\n",
      "Mean best threshold is 0.752 with the accuracy of 0.79\n",
      "Random seed:  3\n",
      "Mean best threshold is 0.7471428571428573 with the accuracy of 0.78\n",
      "Random seed:  4\n",
      "Mean best threshold is 0.752 with the accuracy of 0.79\n",
      "Random seed:  5\n",
      "Mean best threshold is 0.78 with the accuracy of 0.81\n",
      "Best overall mean accuracy threshold is 0.79         with mean threshold 0.75\n"
     ]
    }
   ],
   "source": [
    "list_best_thresh = []\n",
    "list_best_acc_thresh = []\n",
    "# Sử dụng các random seed khác nhau để shuffle data\n",
    "for seed in [1,2,3,4,5]:\n",
    "    np.random.seed(seed)\n",
    "    df_train, df_test = train_test_split(df,test_size=0.25)\n",
    "    print(\"Random seed: \",seed)\n",
    "    best_thresh = [0,0]\n",
    "    for thresh in np.arange(0.4,0.9,0.05):\n",
    "        thresh=thresh\n",
    "        myClassifier = Binary_Naive_Bayes_Classifier(thresh=thresh)\n",
    "        myClassifier.fit(df_train, print_acc = False)\n",
    "        test_acc = myClassifier.evaluate(df_test, print_acc = False)\n",
    "        if test_acc == best_thresh[0]:\n",
    "            best_thresh.append(test_acc)\n",
    "            continue\n",
    "        if test_acc >= best_thresh[0]:\n",
    "            best_thresh = []\n",
    "            best_thresh.append(test_acc)\n",
    "            best_thresh.append(thresh)\n",
    "\n",
    "    print(\"Mean best threshold is {} with the accuracy of {}\".format(np.mean(best_thresh[1:]),round(best_thresh[0],2)))\n",
    "    list_best_thresh.append(best_thresh[0])\n",
    "    list_best_acc_thresh.append(np.mean(best_thresh[1:]))\n",
    "print(\"Best overall mean accuracy threshold is {} \\\n",
    "        with mean threshold {}\".format(round(np.mean(list_best_thresh),2),round(np.mean(list_best_acc_thresh),2)))"
   ]
  },
  {
   "cell_type": "markdown",
   "metadata": {},
   "source": [
    "Như vậy chúng ta chọn `threshold = 0.75` vì có test_accuracy trung bình cao nhất"
   ]
  },
  {
   "cell_type": "markdown",
   "metadata": {},
   "source": [
    "# Chạy lại model hoàn chỉnh"
   ]
  },
  {
   "cell_type": "markdown",
   "metadata": {},
   "source": [
    "Lần này chúng ta sẽ sử dụng `threshold = 0.75` và thay đổi seed khác"
   ]
  },
  {
   "cell_type": "code",
   "execution_count": 8,
   "metadata": {},
   "outputs": [
    {
     "name": "stdout",
     "output_type": "stream",
     "text": [
      "Training accuracy: 77.0 %\n",
      "Test accuracy: 80.0 %\n"
     ]
    }
   ],
   "source": [
    "np.random.seed(156)\n",
    "# Chia data thành test và train với tỉ lệ test_size\n",
    "df_train, df_test = train_test_split(df,test_size=0.25)\n",
    "# Gọi class Naive Bayes để hỗ trợ, với thresh = 0.75 - ngưỡng kích hoạt yes/no\n",
    "myClassifier = Binary_Naive_Bayes_Classifier(thresh=0.75)\n",
    "# Build model dựa trên tập train và xuất ra độ chính xác trên tập training\n",
    "myClassifier.fit(df_train)\n",
    "# Dự đoán dựa trên tập data (có nhãn) và xuất ra độ chính xác trên tập test\n",
    "_ = myClassifier.evaluate(df_test)"
   ]
  },
  {
   "cell_type": "markdown",
   "metadata": {},
   "source": [
    "Tuyệt vời! Vậy là model chúng ta đã cải thiện `test accuracy` từ 75% lên 80% rồi đấy!"
   ]
  }
 ],
 "metadata": {
  "kernelspec": {
   "display_name": "Python 3.6 (tensorflow)",
   "language": "python",
   "name": "tensorflow"
  },
  "language_info": {
   "codemirror_mode": {
    "name": "ipython",
    "version": 3
   },
   "file_extension": ".py",
   "mimetype": "text/x-python",
   "name": "python",
   "nbconvert_exporter": "python",
   "pygments_lexer": "ipython3",
   "version": "3.6.8"
  }
 },
 "nbformat": 4,
 "nbformat_minor": 2
}
